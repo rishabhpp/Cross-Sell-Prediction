{
  "nbformat": 4,
  "nbformat_minor": 0,
  "metadata": {
    "colab": {
      "name": "sub_code_cbc_final.ipynb",
      "provenance": [],
      "collapsed_sections": []
    },
    "kernelspec": {
      "display_name": "Python 3",
      "language": "python",
      "name": "python3"
    },
    "language_info": {
      "codemirror_mode": {
        "name": "ipython",
        "version": 3
      },
      "file_extension": ".py",
      "mimetype": "text/x-python",
      "name": "python",
      "nbconvert_exporter": "python",
      "pygments_lexer": "ipython3",
      "version": "3.7.4"
    }
  },
  "cells": [
    {
      "cell_type": "code",
      "metadata": {
        "colab_type": "code",
        "id": "rAL3_iYti09q",
        "colab": {
          "base_uri": "https://localhost:8080/",
          "height": 71
        },
        "outputId": "3edcc63a-1821-433f-8bf4-a18a863cc692"
      },
      "source": [
        "import pandas as pd\n",
        "import numpy as np\n",
        "\n",
        "import xgboost as xgb\n",
        "import lightgbm as lgb\n",
        "import catboost as cb\n",
        "\n",
        "from sklearn.metrics import roc_auc_score\n",
        "from sklearn.preprocessing import LabelEncoder\n",
        "\n",
        "import seaborn as sns\n",
        "import matplotlib as mpl\n",
        "import matplotlib.pyplot as plt\n",
        "%matplotlib inline"
      ],
      "execution_count": 2,
      "outputs": [
        {
          "output_type": "stream",
          "text": [
            "/usr/local/lib/python3.6/dist-packages/statsmodels/tools/_testing.py:19: FutureWarning: pandas.util.testing is deprecated. Use the functions in the public API at pandas.testing instead.\n",
            "  import pandas.util.testing as tm\n"
          ],
          "name": "stderr"
        }
      ]
    },
    {
      "cell_type": "code",
      "metadata": {
        "id": "r4HmNuV9gHNv",
        "colab_type": "code",
        "colab": {
          "base_uri": "https://localhost:8080/",
          "height": 34
        },
        "outputId": "d057463b-bfcb-4ca6-c098-342cbde9892a"
      },
      "source": [
        "from google.colab import drive\n",
        "drive.mount('/content/drive')"
      ],
      "execution_count": 74,
      "outputs": [
        {
          "output_type": "stream",
          "text": [
            "Drive already mounted at /content/drive; to attempt to forcibly remount, call drive.mount(\"/content/drive\", force_remount=True).\n"
          ],
          "name": "stdout"
        }
      ]
    },
    {
      "cell_type": "code",
      "metadata": {
        "colab_type": "code",
        "id": "v6pixS6noW84",
        "colab": {}
      },
      "source": [
        "train = pd.read_csv('/content/drive/My Drive/Colab Notebooks/cross sell prediction/train.csv')\n",
        "test = pd.read_csv('/content/drive/My Drive/Colab Notebooks/cross sell prediction/test.csv')"
      ],
      "execution_count": 75,
      "outputs": []
    },
    {
      "cell_type": "code",
      "metadata": {
        "colab_type": "code",
        "id": "VwPFTz7oOdP3",
        "colab": {
          "base_uri": "https://localhost:8080/",
          "height": 204
        },
        "outputId": "c52b9c36-6500-4eb5-b172-bdb083af346f"
      },
      "source": [
        "df = pd.merge(train,test,on=[x for x in train.columns if x not in ['Response']],how='outer')\n",
        "df.head()"
      ],
      "execution_count": 76,
      "outputs": [
        {
          "output_type": "execute_result",
          "data": {
            "text/html": [
              "<div>\n",
              "<style scoped>\n",
              "    .dataframe tbody tr th:only-of-type {\n",
              "        vertical-align: middle;\n",
              "    }\n",
              "\n",
              "    .dataframe tbody tr th {\n",
              "        vertical-align: top;\n",
              "    }\n",
              "\n",
              "    .dataframe thead th {\n",
              "        text-align: right;\n",
              "    }\n",
              "</style>\n",
              "<table border=\"1\" class=\"dataframe\">\n",
              "  <thead>\n",
              "    <tr style=\"text-align: right;\">\n",
              "      <th></th>\n",
              "      <th>id</th>\n",
              "      <th>Gender</th>\n",
              "      <th>Age</th>\n",
              "      <th>Driving_License</th>\n",
              "      <th>Region_Code</th>\n",
              "      <th>Previously_Insured</th>\n",
              "      <th>Vehicle_Age</th>\n",
              "      <th>Vehicle_Damage</th>\n",
              "      <th>Annual_Premium</th>\n",
              "      <th>Policy_Sales_Channel</th>\n",
              "      <th>Vintage</th>\n",
              "      <th>Response</th>\n",
              "    </tr>\n",
              "  </thead>\n",
              "  <tbody>\n",
              "    <tr>\n",
              "      <th>0</th>\n",
              "      <td>1</td>\n",
              "      <td>Male</td>\n",
              "      <td>44</td>\n",
              "      <td>1</td>\n",
              "      <td>28.0</td>\n",
              "      <td>0</td>\n",
              "      <td>&gt; 2 Years</td>\n",
              "      <td>Yes</td>\n",
              "      <td>40454.0</td>\n",
              "      <td>26.0</td>\n",
              "      <td>217</td>\n",
              "      <td>1.0</td>\n",
              "    </tr>\n",
              "    <tr>\n",
              "      <th>1</th>\n",
              "      <td>2</td>\n",
              "      <td>Male</td>\n",
              "      <td>76</td>\n",
              "      <td>1</td>\n",
              "      <td>3.0</td>\n",
              "      <td>0</td>\n",
              "      <td>1-2 Year</td>\n",
              "      <td>No</td>\n",
              "      <td>33536.0</td>\n",
              "      <td>26.0</td>\n",
              "      <td>183</td>\n",
              "      <td>0.0</td>\n",
              "    </tr>\n",
              "    <tr>\n",
              "      <th>2</th>\n",
              "      <td>3</td>\n",
              "      <td>Male</td>\n",
              "      <td>47</td>\n",
              "      <td>1</td>\n",
              "      <td>28.0</td>\n",
              "      <td>0</td>\n",
              "      <td>&gt; 2 Years</td>\n",
              "      <td>Yes</td>\n",
              "      <td>38294.0</td>\n",
              "      <td>26.0</td>\n",
              "      <td>27</td>\n",
              "      <td>1.0</td>\n",
              "    </tr>\n",
              "    <tr>\n",
              "      <th>3</th>\n",
              "      <td>4</td>\n",
              "      <td>Male</td>\n",
              "      <td>21</td>\n",
              "      <td>1</td>\n",
              "      <td>11.0</td>\n",
              "      <td>1</td>\n",
              "      <td>&lt; 1 Year</td>\n",
              "      <td>No</td>\n",
              "      <td>28619.0</td>\n",
              "      <td>152.0</td>\n",
              "      <td>203</td>\n",
              "      <td>0.0</td>\n",
              "    </tr>\n",
              "    <tr>\n",
              "      <th>4</th>\n",
              "      <td>5</td>\n",
              "      <td>Female</td>\n",
              "      <td>29</td>\n",
              "      <td>1</td>\n",
              "      <td>41.0</td>\n",
              "      <td>1</td>\n",
              "      <td>&lt; 1 Year</td>\n",
              "      <td>No</td>\n",
              "      <td>27496.0</td>\n",
              "      <td>152.0</td>\n",
              "      <td>39</td>\n",
              "      <td>0.0</td>\n",
              "    </tr>\n",
              "  </tbody>\n",
              "</table>\n",
              "</div>"
            ],
            "text/plain": [
              "   id  Gender  Age  ...  Policy_Sales_Channel  Vintage  Response\n",
              "0   1    Male   44  ...                  26.0      217       1.0\n",
              "1   2    Male   76  ...                  26.0      183       0.0\n",
              "2   3    Male   47  ...                  26.0       27       1.0\n",
              "3   4    Male   21  ...                 152.0      203       0.0\n",
              "4   5  Female   29  ...                 152.0       39       0.0\n",
              "\n",
              "[5 rows x 12 columns]"
            ]
          },
          "metadata": {
            "tags": []
          },
          "execution_count": 76
        }
      ]
    },
    {
      "cell_type": "code",
      "metadata": {
        "colab_type": "code",
        "id": "44EX8c9qQvkR",
        "colab": {
          "base_uri": "https://localhost:8080/",
          "height": 297
        },
        "outputId": "e6be0fc9-8e9b-42e8-8f54-c363f8849ddb"
      },
      "source": [
        "#Check the data distribution in the dataframe\n",
        "df.describe()"
      ],
      "execution_count": 77,
      "outputs": [
        {
          "output_type": "execute_result",
          "data": {
            "text/html": [
              "<div>\n",
              "<style scoped>\n",
              "    .dataframe tbody tr th:only-of-type {\n",
              "        vertical-align: middle;\n",
              "    }\n",
              "\n",
              "    .dataframe tbody tr th {\n",
              "        vertical-align: top;\n",
              "    }\n",
              "\n",
              "    .dataframe thead th {\n",
              "        text-align: right;\n",
              "    }\n",
              "</style>\n",
              "<table border=\"1\" class=\"dataframe\">\n",
              "  <thead>\n",
              "    <tr style=\"text-align: right;\">\n",
              "      <th></th>\n",
              "      <th>id</th>\n",
              "      <th>Age</th>\n",
              "      <th>Driving_License</th>\n",
              "      <th>Region_Code</th>\n",
              "      <th>Previously_Insured</th>\n",
              "      <th>Annual_Premium</th>\n",
              "      <th>Policy_Sales_Channel</th>\n",
              "      <th>Vintage</th>\n",
              "      <th>Response</th>\n",
              "    </tr>\n",
              "  </thead>\n",
              "  <tbody>\n",
              "    <tr>\n",
              "      <th>count</th>\n",
              "      <td>508146.000000</td>\n",
              "      <td>508146.000000</td>\n",
              "      <td>508146.000000</td>\n",
              "      <td>508146.000000</td>\n",
              "      <td>508146.000000</td>\n",
              "      <td>508146.000000</td>\n",
              "      <td>508146.000000</td>\n",
              "      <td>508146.000000</td>\n",
              "      <td>381109.000000</td>\n",
              "    </tr>\n",
              "    <tr>\n",
              "      <th>mean</th>\n",
              "      <td>254073.500000</td>\n",
              "      <td>38.808413</td>\n",
              "      <td>0.997936</td>\n",
              "      <td>26.406572</td>\n",
              "      <td>0.458667</td>\n",
              "      <td>30554.453041</td>\n",
              "      <td>111.975838</td>\n",
              "      <td>154.340123</td>\n",
              "      <td>0.122563</td>\n",
              "    </tr>\n",
              "    <tr>\n",
              "      <th>std</th>\n",
              "      <td>146689.259281</td>\n",
              "      <td>15.500179</td>\n",
              "      <td>0.045388</td>\n",
              "      <td>13.224921</td>\n",
              "      <td>0.498289</td>\n",
              "      <td>17146.574625</td>\n",
              "      <td>54.246027</td>\n",
              "      <td>83.668793</td>\n",
              "      <td>0.327936</td>\n",
              "    </tr>\n",
              "    <tr>\n",
              "      <th>min</th>\n",
              "      <td>1.000000</td>\n",
              "      <td>20.000000</td>\n",
              "      <td>0.000000</td>\n",
              "      <td>0.000000</td>\n",
              "      <td>0.000000</td>\n",
              "      <td>2630.000000</td>\n",
              "      <td>1.000000</td>\n",
              "      <td>10.000000</td>\n",
              "      <td>0.000000</td>\n",
              "    </tr>\n",
              "    <tr>\n",
              "      <th>25%</th>\n",
              "      <td>127037.250000</td>\n",
              "      <td>25.000000</td>\n",
              "      <td>1.000000</td>\n",
              "      <td>15.000000</td>\n",
              "      <td>0.000000</td>\n",
              "      <td>24381.000000</td>\n",
              "      <td>26.000000</td>\n",
              "      <td>82.000000</td>\n",
              "      <td>0.000000</td>\n",
              "    </tr>\n",
              "    <tr>\n",
              "      <th>50%</th>\n",
              "      <td>254073.500000</td>\n",
              "      <td>36.000000</td>\n",
              "      <td>1.000000</td>\n",
              "      <td>28.000000</td>\n",
              "      <td>0.000000</td>\n",
              "      <td>31661.000000</td>\n",
              "      <td>133.000000</td>\n",
              "      <td>154.000000</td>\n",
              "      <td>0.000000</td>\n",
              "    </tr>\n",
              "    <tr>\n",
              "      <th>75%</th>\n",
              "      <td>381109.750000</td>\n",
              "      <td>49.000000</td>\n",
              "      <td>1.000000</td>\n",
              "      <td>35.000000</td>\n",
              "      <td>1.000000</td>\n",
              "      <td>39403.750000</td>\n",
              "      <td>152.000000</td>\n",
              "      <td>227.000000</td>\n",
              "      <td>0.000000</td>\n",
              "    </tr>\n",
              "    <tr>\n",
              "      <th>max</th>\n",
              "      <td>508146.000000</td>\n",
              "      <td>85.000000</td>\n",
              "      <td>1.000000</td>\n",
              "      <td>52.000000</td>\n",
              "      <td>1.000000</td>\n",
              "      <td>540165.000000</td>\n",
              "      <td>163.000000</td>\n",
              "      <td>299.000000</td>\n",
              "      <td>1.000000</td>\n",
              "    </tr>\n",
              "  </tbody>\n",
              "</table>\n",
              "</div>"
            ],
            "text/plain": [
              "                  id            Age  ...        Vintage       Response\n",
              "count  508146.000000  508146.000000  ...  508146.000000  381109.000000\n",
              "mean   254073.500000      38.808413  ...     154.340123       0.122563\n",
              "std    146689.259281      15.500179  ...      83.668793       0.327936\n",
              "min         1.000000      20.000000  ...      10.000000       0.000000\n",
              "25%    127037.250000      25.000000  ...      82.000000       0.000000\n",
              "50%    254073.500000      36.000000  ...     154.000000       0.000000\n",
              "75%    381109.750000      49.000000  ...     227.000000       0.000000\n",
              "max    508146.000000      85.000000  ...     299.000000       1.000000\n",
              "\n",
              "[8 rows x 9 columns]"
            ]
          },
          "metadata": {
            "tags": []
          },
          "execution_count": 77
        }
      ]
    },
    {
      "cell_type": "markdown",
      "metadata": {
        "id": "Irt8F5AHhSdc",
        "colab_type": "text"
      },
      "source": [
        "Here the Annual Premium column seems to contain some outliers as the maximum value is way too high than the mean of the data.<br>So visualising the column values by boxplot."
      ]
    },
    {
      "cell_type": "code",
      "metadata": {
        "colab_type": "code",
        "id": "ugFJQY7_R_yz",
        "colab": {
          "base_uri": "https://localhost:8080/",
          "height": 297
        },
        "outputId": "e6550370-9b3f-473a-b323-5e54da90ee6d"
      },
      "source": [
        "sns.set_style('whitegrid')\n",
        "sns.boxplot(x=df['Annual_Premium'])"
      ],
      "execution_count": 78,
      "outputs": [
        {
          "output_type": "execute_result",
          "data": {
            "text/plain": [
              "<matplotlib.axes._subplots.AxesSubplot at 0x7f866d096d30>"
            ]
          },
          "metadata": {
            "tags": []
          },
          "execution_count": 78
        },
        {
          "output_type": "display_data",
          "data": {
            "image/png": "[encoded data removed]",
            "text/plain": [
              "<Figure size 432x288 with 1 Axes>"
            ]
          },
          "metadata": {
            "tags": []
          }
        }
      ]
    },
    {
      "cell_type": "code",
      "metadata": {
        "colab_type": "code",
        "id": "FhzGCfvlTW-f",
        "colab": {}
      },
      "source": [
        "#Set an upper limit of 1,50,000 to the premium paid by the customer\n",
        "df.loc[df['Annual_Premium']>150000,'Annual_Premium'] = 150000"
      ],
      "execution_count": 79,
      "outputs": []
    },
    {
      "cell_type": "markdown",
      "metadata": {
        "id": "yfsBaLEsh6mE",
        "colab_type": "text"
      },
      "source": [
        "## Feature Engineering"
      ]
    },
    {
      "cell_type": "code",
      "metadata": {
        "colab_type": "code",
        "id": "vGu45B9-aJb2",
        "colab": {}
      },
      "source": [
        "#Normalising the data of Age, Annual Premium and Vintage columns \n",
        "df['log_age'] = np.log(df['Age'])\n",
        "df['sqrt_premium'] = np.sqrt(df['Annual_Premium'])\n",
        "df['log_vintage'] = np.log(df['Vintage'])"
      ],
      "execution_count": 80,
      "outputs": []
    },
    {
      "cell_type": "code",
      "metadata": {
        "id": "IM-FsdbQUrlv",
        "colab_type": "code",
        "colab": {}
      },
      "source": [
        "#Calculating mean and std of premium paid and vintage on Previously Insured per Sales Channel used\n",
        "group = df.groupby(['Policy_Sales_Channel','Previously_Insured'])['Annual_Premium'].agg(['mean','std'])\n",
        "group.columns = [x + '_channel_insured_premium' for x in group.columns.ravel()]\n",
        "df = pd.merge(df,group,on=['Policy_Sales_Channel','Previously_Insured'],how='left')\n",
        "\n",
        "group = df.groupby(['Policy_Sales_Channel','Previously_Insured'])['Vintage'].agg(['mean','std'])\n",
        "group.columns = [x + '_channel_insured_vintage' for x in group.columns.ravel()]\n",
        "df = pd.merge(df,group,on=['Policy_Sales_Channel','Previously_Insured'],how='left')"
      ],
      "execution_count": 81,
      "outputs": []
    },
    {
      "cell_type": "code",
      "metadata": {
        "id": "hKsuO8uqRijm",
        "colab_type": "code",
        "colab": {}
      },
      "source": [
        "#Calculating mean and std of premium paid and vintage on Previously Insured per Region\n",
        "group = df.groupby(['Region_Code','Previously_Insured'])['Annual_Premium'].agg(['mean','std'])\n",
        "group.columns = [x +'_region_insured_premium' for x in group.columns.ravel()]\n",
        "df = pd.merge(df,group,on=['Region_Code','Previously_Insured'],how='left')\n",
        "\n",
        "group = df.groupby(['Region_Code','Previously_Insured'])['Vintage'].agg(['mean','std'])\n",
        "group.columns = [x +'_region_insured_vintage' for x in group.columns.ravel()]\n",
        "df = pd.merge(df,group,on=['Region_Code','Previously_Insured'],how='left')"
      ],
      "execution_count": 82,
      "outputs": []
    },
    {
      "cell_type": "code",
      "metadata": {
        "id": "hovD8tCZUxFC",
        "colab_type": "code",
        "colab": {}
      },
      "source": [
        "#Calculating mean and std of premium paid and vintage on Vehicle Damage per Region\n",
        "group = df.groupby(['Region_Code','Vehicle_Damage'])['Annual_Premium'].agg(['mean','std'])\n",
        "group.columns = [x +'_region_damage_premium' for x in group.columns.ravel()]\n",
        "df = pd.merge(df,group,on=['Region_Code','Vehicle_Damage'],how='left')\n",
        "\n",
        "group = df.groupby(['Region_Code','Vehicle_Damage'])['Vintage'].agg(['mean','std'])\n",
        "group.columns = [x +'_region_damage_vintage' for x in group.columns.ravel()]\n",
        "df = pd.merge(df,group,on=['Region_Code','Vehicle_Damage'],how='left')"
      ],
      "execution_count": 83,
      "outputs": []
    },
    {
      "cell_type": "code",
      "metadata": {
        "id": "cpx14OVRg7nb",
        "colab_type": "code",
        "colab": {}
      },
      "source": [
        "#Calculating mean and std of premium paid and vintage on the basis of Vehicle Damage\n",
        "group = df.groupby(['Vehicle_Damage'])['Annual_Premium'].agg(['mean','std'])\n",
        "group.columns = [x + '_damage_premium' for x in group.columns.ravel()]\n",
        "df = pd.merge(df,group,on=['Vehicle_Damage'],how='left')\n",
        "\n",
        "group = df.groupby(['Vehicle_Damage'])['Vintage'].agg(['mean','std'])\n",
        "group.columns = [x + '_damage_vintage' for x in group.columns.ravel()]\n",
        "df = pd.merge(df,group,on=['Vehicle_Damage'],how='left')"
      ],
      "execution_count": 84,
      "outputs": []
    },
    {
      "cell_type": "code",
      "metadata": {
        "id": "KVjqOHFgyql2",
        "colab_type": "code",
        "colab": {}
      },
      "source": [
        "#Calculating mean and std of premium paid and vintage on Vehicle Damage per customer Age\n",
        "group = df.groupby(['Age','Vehicle_Damage'])['Vintage'].agg(['mean','std'])\n",
        "group.columns = [x +'_age_damage_vintage' for x in group.columns.ravel()]\n",
        "df = pd.merge(df,group,on=['Age','Vehicle_Damage'],how='left')\n",
        "\n",
        "group = df.groupby(['Age','Vehicle_Damage'])['Annual_Premium'].agg(['mean','std'])\n",
        "group.columns = [x +'_age_damage_premium' for x in group.columns.ravel()]\n",
        "df = pd.merge(df,group,on=['Age','Vehicle_Damage'],how='left')"
      ],
      "execution_count": 85,
      "outputs": []
    },
    {
      "cell_type": "code",
      "metadata": {
        "id": "CIbO2jYUcO-f",
        "colab_type": "code",
        "colab": {}
      },
      "source": [
        "#Counting the number of customers for Previously Insured column agewise\n",
        "group = df.groupby(['Age']).agg(cnt_age_insured = ('Previously_Insured','count'))\n",
        "df = pd.merge(df,group,on=['Age'],how='left')\n",
        "\n",
        "group = df.groupby(['Region_Code']).agg(cnt_region_insured = ('Previously_Insured','count'))\n",
        "df = pd.merge(df,group,on=['Region_Code'],how='left')"
      ],
      "execution_count": 86,
      "outputs": []
    },
    {
      "cell_type": "code",
      "metadata": {
        "colab_type": "code",
        "id": "8BXhjGoegv8E",
        "colab": {}
      },
      "source": [
        "le = LabelEncoder()\n",
        "for i in ['Gender','Vehicle_Age','Vehicle_Damage']:\n",
        "  df[i] = le.fit_transform(df[i])"
      ],
      "execution_count": 87,
      "outputs": []
    },
    {
      "cell_type": "code",
      "metadata": {
        "colab_type": "code",
        "id": "PrN4CFW-6aWh",
        "colab": {}
      },
      "source": [
        "#Converting float dtypes column to int for the catboost model to accept it\n",
        "df['Region_Code'] = df['Region_Code'].astype(int)\n",
        "df['Policy_Sales_Channel'] = df['Policy_Sales_Channel'].astype(int)"
      ],
      "execution_count": 88,
      "outputs": []
    },
    {
      "cell_type": "code",
      "metadata": {
        "colab_type": "code",
        "id": "I6aLVpca_Tpp",
        "colab": {}
      },
      "source": [
        "X = df[df['Response'].notnull()]\n",
        "X_valid = df[df['Response'].isnull()]"
      ],
      "execution_count": 89,
      "outputs": []
    },
    {
      "cell_type": "markdown",
      "metadata": {
        "id": "k3q3hIiz5MT0",
        "colab_type": "text"
      },
      "source": [
        "## Model Testing and Fitting"
      ]
    },
    {
      "cell_type": "markdown",
      "metadata": {
        "id": "17uviiu55kzB",
        "colab_type": "text"
      },
      "source": [
        "Out of the different models fitted, the CatBoost model gave the best auc score for the given dataset."
      ]
    },
    {
      "cell_type": "code",
      "metadata": {
        "id": "8rVuRgpLFUXs",
        "colab_type": "code",
        "colab": {}
      },
      "source": [
        "cat_col = ['Gender','Driving_License','Region_Code','Previously_Insured','Vehicle_Age','Vehicle_Damage','Policy_Sales_Channel']\n",
        "\n",
        "#cv_data = cb.Pool(X.drop(columns=['id','Response']),label=X['Response'],cat_features=cat_col)\n",
        "\n",
        "params = {'iterations':2000,\n",
        "         'learning_rate':0.05,\n",
        "         'thread_count':4,\n",
        "         'eval_metric':'AUC',\n",
        "          'loss_function':'Logloss'}\n",
        "\n",
        "#cv_res = cb.cv(dtrain=cv_data,early_stopping_rounds=100,nfold=5,params=params,plot=True)"
      ],
      "execution_count": 90,
      "outputs": []
    },
    {
      "cell_type": "code",
      "metadata": {
        "id": "Xp7b6w_AFUXx",
        "colab_type": "code",
        "colab": {
          "base_uri": "https://localhost:8080/",
          "height": 1000
        },
        "outputId": "a65c14cc-0770-4cc7-9ca4-3be904d0bbda"
      },
      "source": [
        "#The cross validation gave an AUC score of 0.8589179 for the model of 384 trees with a learning rate of 0.05 as the best one\n",
        "cat_col = ['Gender','Driving_License','Region_Code','Previously_Insured','Vehicle_Age','Vehicle_Damage','Policy_Sales_Channel']\n",
        "\n",
        "cbc_new = cb.CatBoostClassifier(iterations=384,learning_rate=0.05,thread_count=4,cat_features=cat_col,eval_metric='AUC')\n",
        "cbc_new.fit(X.drop(columns=['id','Response']),X['Response'])\n",
        "\n",
        "y_pred_cbc_new = cbc_new.predict_proba(X_valid.drop(columns=['id','Response']))[:,1]\n",
        "test_res = test['id']\n",
        "test_res = pd.concat([test_res,pd.DataFrame(y_pred_cbc_new,columns=['Response'])],axis=1)\n",
        "test_res.set_index('id',inplace=True)\n",
        "test_res.to_csv('/content/drive/My Drive/Colab Notebooks/cross sell prediction/sub_cbc_final.csv')"
      ],
      "execution_count": 91,
      "outputs": [
        {
          "output_type": "stream",
          "text": [
            "0:\ttotal: 471ms\tremaining: 3m\n",
            "1:\ttotal: 982ms\tremaining: 3m 7s\n",
            "2:\ttotal: 1.46s\tremaining: 3m 5s\n",
            "3:\ttotal: 1.92s\tremaining: 3m 2s\n",
            "4:\ttotal: 2.44s\tremaining: 3m 4s\n",
            "5:\ttotal: 2.93s\tremaining: 3m 4s\n",
            "6:\ttotal: 3.41s\tremaining: 3m 3s\n",
            "7:\ttotal: 3.87s\tremaining: 3m 2s\n",
            "8:\ttotal: 4.36s\tremaining: 3m 1s\n",
            "9:\ttotal: 4.82s\tremaining: 3m\n",
            "10:\ttotal: 5.3s\tremaining: 2m 59s\n",
            "11:\ttotal: 5.74s\tremaining: 2m 57s\n",
            "12:\ttotal: 6.22s\tremaining: 2m 57s\n",
            "13:\ttotal: 6.69s\tremaining: 2m 56s\n",
            "14:\ttotal: 7.16s\tremaining: 2m 56s\n",
            "15:\ttotal: 7.61s\tremaining: 2m 55s\n",
            "16:\ttotal: 8.05s\tremaining: 2m 53s\n",
            "17:\ttotal: 8.52s\tremaining: 2m 53s\n",
            "18:\ttotal: 8.9s\tremaining: 2m 51s\n",
            "19:\ttotal: 9.38s\tremaining: 2m 50s\n",
            "20:\ttotal: 9.87s\tremaining: 2m 50s\n",
            "21:\ttotal: 10.4s\tremaining: 2m 50s\n",
            "22:\ttotal: 10.8s\tremaining: 2m 49s\n",
            "23:\ttotal: 11.2s\tremaining: 2m 48s\n",
            "24:\ttotal: 11.7s\tremaining: 2m 48s\n",
            "25:\ttotal: 12.1s\tremaining: 2m 47s\n",
            "26:\ttotal: 12.6s\tremaining: 2m 46s\n",
            "27:\ttotal: 13s\tremaining: 2m 45s\n",
            "28:\ttotal: 13.5s\tremaining: 2m 45s\n",
            "29:\ttotal: 14s\tremaining: 2m 44s\n",
            "30:\ttotal: 14.4s\tremaining: 2m 44s\n",
            "31:\ttotal: 14.9s\tremaining: 2m 43s\n",
            "32:\ttotal: 15.4s\tremaining: 2m 43s\n",
            "33:\ttotal: 15.8s\tremaining: 2m 42s\n",
            "34:\ttotal: 16.2s\tremaining: 2m 41s\n",
            "35:\ttotal: 16.6s\tremaining: 2m 40s\n",
            "36:\ttotal: 17s\tremaining: 2m 39s\n",
            "37:\ttotal: 17.3s\tremaining: 2m 37s\n",
            "38:\ttotal: 17.7s\tremaining: 2m 36s\n",
            "39:\ttotal: 18s\tremaining: 2m 35s\n",
            "40:\ttotal: 18.5s\tremaining: 2m 34s\n",
            "41:\ttotal: 18.8s\tremaining: 2m 33s\n",
            "42:\ttotal: 19.2s\tremaining: 2m 32s\n",
            "43:\ttotal: 19.6s\tremaining: 2m 31s\n",
            "44:\ttotal: 19.9s\tremaining: 2m 29s\n",
            "45:\ttotal: 20.3s\tremaining: 2m 29s\n",
            "46:\ttotal: 20.8s\tremaining: 2m 28s\n",
            "47:\ttotal: 21.1s\tremaining: 2m 27s\n",
            "48:\ttotal: 21.5s\tremaining: 2m 26s\n",
            "49:\ttotal: 22s\tremaining: 2m 26s\n",
            "50:\ttotal: 22.4s\tremaining: 2m 25s\n",
            "51:\ttotal: 22.7s\tremaining: 2m 25s\n",
            "52:\ttotal: 23.1s\tremaining: 2m 24s\n",
            "53:\ttotal: 23.6s\tremaining: 2m 24s\n",
            "54:\ttotal: 24s\tremaining: 2m 23s\n",
            "55:\ttotal: 24.5s\tremaining: 2m 23s\n",
            "56:\ttotal: 25s\tremaining: 2m 23s\n",
            "57:\ttotal: 25.4s\tremaining: 2m 22s\n",
            "58:\ttotal: 25.8s\tremaining: 2m 22s\n",
            "59:\ttotal: 26.3s\tremaining: 2m 22s\n",
            "60:\ttotal: 26.8s\tremaining: 2m 21s\n",
            "61:\ttotal: 27.2s\tremaining: 2m 21s\n",
            "62:\ttotal: 27.7s\tremaining: 2m 21s\n",
            "63:\ttotal: 28.1s\tremaining: 2m 20s\n",
            "64:\ttotal: 28.6s\tremaining: 2m 20s\n",
            "65:\ttotal: 28.9s\tremaining: 2m 19s\n",
            "66:\ttotal: 29.3s\tremaining: 2m 18s\n",
            "67:\ttotal: 29.8s\tremaining: 2m 18s\n",
            "68:\ttotal: 30.2s\tremaining: 2m 17s\n",
            "69:\ttotal: 30.6s\tremaining: 2m 17s\n",
            "70:\ttotal: 31.1s\tremaining: 2m 17s\n",
            "71:\ttotal: 31.5s\tremaining: 2m 16s\n",
            "72:\ttotal: 32s\tremaining: 2m 16s\n",
            "73:\ttotal: 32.4s\tremaining: 2m 15s\n",
            "74:\ttotal: 32.9s\tremaining: 2m 15s\n",
            "75:\ttotal: 33.3s\tremaining: 2m 15s\n",
            "76:\ttotal: 33.7s\tremaining: 2m 14s\n",
            "77:\ttotal: 34.2s\tremaining: 2m 14s\n",
            "78:\ttotal: 34.6s\tremaining: 2m 13s\n",
            "79:\ttotal: 35s\tremaining: 2m 13s\n",
            "80:\ttotal: 35.5s\tremaining: 2m 12s\n",
            "81:\ttotal: 35.9s\tremaining: 2m 12s\n",
            "82:\ttotal: 36.4s\tremaining: 2m 11s\n",
            "83:\ttotal: 36.8s\tremaining: 2m 11s\n",
            "84:\ttotal: 37.2s\tremaining: 2m 11s\n",
            "85:\ttotal: 37.7s\tremaining: 2m 10s\n",
            "86:\ttotal: 38.2s\tremaining: 2m 10s\n",
            "87:\ttotal: 38.6s\tremaining: 2m 9s\n",
            "88:\ttotal: 39s\tremaining: 2m 9s\n",
            "89:\ttotal: 39.4s\tremaining: 2m 8s\n",
            "90:\ttotal: 39.8s\tremaining: 2m 8s\n",
            "91:\ttotal: 40.3s\tremaining: 2m 7s\n",
            "92:\ttotal: 40.7s\tremaining: 2m 7s\n",
            "93:\ttotal: 41.2s\tremaining: 2m 6s\n",
            "94:\ttotal: 41.6s\tremaining: 2m 6s\n",
            "95:\ttotal: 42s\tremaining: 2m 6s\n",
            "96:\ttotal: 42.4s\tremaining: 2m 5s\n",
            "97:\ttotal: 42.8s\tremaining: 2m 5s\n",
            "98:\ttotal: 43s\tremaining: 2m 3s\n",
            "99:\ttotal: 43.5s\tremaining: 2m 3s\n",
            "100:\ttotal: 43.9s\tremaining: 2m 3s\n",
            "101:\ttotal: 44.4s\tremaining: 2m 2s\n",
            "102:\ttotal: 44.8s\tremaining: 2m 2s\n",
            "103:\ttotal: 45.3s\tremaining: 2m 1s\n",
            "104:\ttotal: 45.7s\tremaining: 2m 1s\n",
            "105:\ttotal: 46.1s\tremaining: 2m\n",
            "106:\ttotal: 46.5s\tremaining: 2m\n",
            "107:\ttotal: 47s\tremaining: 2m\n",
            "108:\ttotal: 47.4s\tremaining: 1m 59s\n",
            "109:\ttotal: 47.9s\tremaining: 1m 59s\n",
            "110:\ttotal: 48.3s\tremaining: 1m 58s\n",
            "111:\ttotal: 48.8s\tremaining: 1m 58s\n",
            "112:\ttotal: 49.2s\tremaining: 1m 58s\n",
            "113:\ttotal: 49.6s\tremaining: 1m 57s\n",
            "114:\ttotal: 50s\tremaining: 1m 57s\n",
            "115:\ttotal: 50.5s\tremaining: 1m 56s\n",
            "116:\ttotal: 50.9s\tremaining: 1m 56s\n",
            "117:\ttotal: 51.3s\tremaining: 1m 55s\n",
            "118:\ttotal: 51.7s\tremaining: 1m 55s\n",
            "119:\ttotal: 52.2s\tremaining: 1m 54s\n",
            "120:\ttotal: 52.6s\tremaining: 1m 54s\n",
            "121:\ttotal: 53.1s\tremaining: 1m 54s\n",
            "122:\ttotal: 53.5s\tremaining: 1m 53s\n",
            "123:\ttotal: 54s\tremaining: 1m 53s\n",
            "124:\ttotal: 54.4s\tremaining: 1m 52s\n",
            "125:\ttotal: 54.9s\tremaining: 1m 52s\n",
            "126:\ttotal: 55.4s\tremaining: 1m 52s\n",
            "127:\ttotal: 55.8s\tremaining: 1m 51s\n",
            "128:\ttotal: 56.3s\tremaining: 1m 51s\n",
            "129:\ttotal: 56.7s\tremaining: 1m 50s\n",
            "130:\ttotal: 57.2s\tremaining: 1m 50s\n",
            "131:\ttotal: 57.7s\tremaining: 1m 50s\n",
            "132:\ttotal: 58.1s\tremaining: 1m 49s\n",
            "133:\ttotal: 58.6s\tremaining: 1m 49s\n",
            "134:\ttotal: 59s\tremaining: 1m 48s\n",
            "135:\ttotal: 59.4s\tremaining: 1m 48s\n",
            "136:\ttotal: 59.9s\tremaining: 1m 47s\n",
            "137:\ttotal: 1m\tremaining: 1m 47s\n",
            "138:\ttotal: 1m\tremaining: 1m 46s\n",
            "139:\ttotal: 1m 1s\tremaining: 1m 46s\n",
            "140:\ttotal: 1m 1s\tremaining: 1m 46s\n",
            "141:\ttotal: 1m 2s\tremaining: 1m 45s\n",
            "142:\ttotal: 1m 2s\tremaining: 1m 45s\n",
            "143:\ttotal: 1m 2s\tremaining: 1m 44s\n",
            "144:\ttotal: 1m 3s\tremaining: 1m 44s\n",
            "145:\ttotal: 1m 3s\tremaining: 1m 43s\n",
            "146:\ttotal: 1m 4s\tremaining: 1m 43s\n",
            "147:\ttotal: 1m 4s\tremaining: 1m 42s\n",
            "148:\ttotal: 1m 4s\tremaining: 1m 42s\n",
            "149:\ttotal: 1m 5s\tremaining: 1m 41s\n",
            "150:\ttotal: 1m 5s\tremaining: 1m 41s\n",
            "151:\ttotal: 1m 6s\tremaining: 1m 41s\n",
            "152:\ttotal: 1m 6s\tremaining: 1m 40s\n",
            "153:\ttotal: 1m 7s\tremaining: 1m 40s\n",
            "154:\ttotal: 1m 7s\tremaining: 1m 39s\n",
            "155:\ttotal: 1m 7s\tremaining: 1m 39s\n",
            "156:\ttotal: 1m 8s\tremaining: 1m 38s\n",
            "157:\ttotal: 1m 8s\tremaining: 1m 38s\n",
            "158:\ttotal: 1m 9s\tremaining: 1m 37s\n",
            "159:\ttotal: 1m 9s\tremaining: 1m 37s\n",
            "160:\ttotal: 1m 10s\tremaining: 1m 37s\n",
            "161:\ttotal: 1m 10s\tremaining: 1m 36s\n",
            "162:\ttotal: 1m 10s\tremaining: 1m 35s\n",
            "163:\ttotal: 1m 11s\tremaining: 1m 35s\n",
            "164:\ttotal: 1m 11s\tremaining: 1m 35s\n",
            "165:\ttotal: 1m 11s\tremaining: 1m 34s\n",
            "166:\ttotal: 1m 12s\tremaining: 1m 34s\n",
            "167:\ttotal: 1m 12s\tremaining: 1m 33s\n",
            "168:\ttotal: 1m 13s\tremaining: 1m 32s\n",
            "169:\ttotal: 1m 13s\tremaining: 1m 32s\n",
            "170:\ttotal: 1m 13s\tremaining: 1m 32s\n",
            "171:\ttotal: 1m 14s\tremaining: 1m 31s\n",
            "172:\ttotal: 1m 14s\tremaining: 1m 31s\n",
            "173:\ttotal: 1m 15s\tremaining: 1m 30s\n",
            "174:\ttotal: 1m 15s\tremaining: 1m 30s\n",
            "175:\ttotal: 1m 16s\tremaining: 1m 29s\n",
            "176:\ttotal: 1m 16s\tremaining: 1m 29s\n",
            "177:\ttotal: 1m 17s\tremaining: 1m 29s\n",
            "178:\ttotal: 1m 17s\tremaining: 1m 28s\n",
            "179:\ttotal: 1m 17s\tremaining: 1m 28s\n",
            "180:\ttotal: 1m 18s\tremaining: 1m 27s\n",
            "181:\ttotal: 1m 18s\tremaining: 1m 27s\n",
            "182:\ttotal: 1m 19s\tremaining: 1m 27s\n",
            "183:\ttotal: 1m 19s\tremaining: 1m 26s\n",
            "184:\ttotal: 1m 20s\tremaining: 1m 26s\n",
            "185:\ttotal: 1m 20s\tremaining: 1m 25s\n",
            "186:\ttotal: 1m 21s\tremaining: 1m 25s\n",
            "187:\ttotal: 1m 21s\tremaining: 1m 24s\n",
            "188:\ttotal: 1m 21s\tremaining: 1m 24s\n",
            "189:\ttotal: 1m 22s\tremaining: 1m 24s\n",
            "190:\ttotal: 1m 22s\tremaining: 1m 23s\n",
            "191:\ttotal: 1m 23s\tremaining: 1m 23s\n",
            "192:\ttotal: 1m 23s\tremaining: 1m 22s\n",
            "193:\ttotal: 1m 24s\tremaining: 1m 22s\n",
            "194:\ttotal: 1m 24s\tremaining: 1m 21s\n",
            "195:\ttotal: 1m 25s\tremaining: 1m 21s\n",
            "196:\ttotal: 1m 25s\tremaining: 1m 21s\n",
            "197:\ttotal: 1m 25s\tremaining: 1m 20s\n",
            "198:\ttotal: 1m 26s\tremaining: 1m 20s\n",
            "199:\ttotal: 1m 26s\tremaining: 1m 19s\n",
            "200:\ttotal: 1m 27s\tremaining: 1m 19s\n",
            "201:\ttotal: 1m 27s\tremaining: 1m 18s\n",
            "202:\ttotal: 1m 28s\tremaining: 1m 18s\n",
            "203:\ttotal: 1m 28s\tremaining: 1m 18s\n",
            "204:\ttotal: 1m 29s\tremaining: 1m 17s\n",
            "205:\ttotal: 1m 29s\tremaining: 1m 17s\n",
            "206:\ttotal: 1m 29s\tremaining: 1m 16s\n",
            "207:\ttotal: 1m 30s\tremaining: 1m 16s\n",
            "208:\ttotal: 1m 30s\tremaining: 1m 16s\n",
            "209:\ttotal: 1m 31s\tremaining: 1m 15s\n",
            "210:\ttotal: 1m 31s\tremaining: 1m 15s\n",
            "211:\ttotal: 1m 32s\tremaining: 1m 14s\n",
            "212:\ttotal: 1m 32s\tremaining: 1m 14s\n",
            "213:\ttotal: 1m 32s\tremaining: 1m 13s\n",
            "214:\ttotal: 1m 33s\tremaining: 1m 13s\n",
            "215:\ttotal: 1m 33s\tremaining: 1m 12s\n",
            "216:\ttotal: 1m 34s\tremaining: 1m 12s\n",
            "217:\ttotal: 1m 34s\tremaining: 1m 11s\n",
            "218:\ttotal: 1m 35s\tremaining: 1m 11s\n",
            "219:\ttotal: 1m 35s\tremaining: 1m 11s\n",
            "220:\ttotal: 1m 35s\tremaining: 1m 10s\n",
            "221:\ttotal: 1m 36s\tremaining: 1m 10s\n",
            "222:\ttotal: 1m 36s\tremaining: 1m 9s\n",
            "223:\ttotal: 1m 37s\tremaining: 1m 9s\n",
            "224:\ttotal: 1m 37s\tremaining: 1m 9s\n",
            "225:\ttotal: 1m 38s\tremaining: 1m 8s\n",
            "226:\ttotal: 1m 38s\tremaining: 1m 8s\n",
            "227:\ttotal: 1m 38s\tremaining: 1m 7s\n",
            "228:\ttotal: 1m 39s\tremaining: 1m 7s\n",
            "229:\ttotal: 1m 39s\tremaining: 1m 6s\n",
            "230:\ttotal: 1m 40s\tremaining: 1m 6s\n",
            "231:\ttotal: 1m 40s\tremaining: 1m 6s\n",
            "232:\ttotal: 1m 41s\tremaining: 1m 5s\n",
            "233:\ttotal: 1m 41s\tremaining: 1m 5s\n",
            "234:\ttotal: 1m 41s\tremaining: 1m 4s\n",
            "235:\ttotal: 1m 42s\tremaining: 1m 4s\n",
            "236:\ttotal: 1m 42s\tremaining: 1m 3s\n",
            "237:\ttotal: 1m 43s\tremaining: 1m 3s\n",
            "238:\ttotal: 1m 43s\tremaining: 1m 2s\n",
            "239:\ttotal: 1m 44s\tremaining: 1m 2s\n",
            "240:\ttotal: 1m 44s\tremaining: 1m 2s\n",
            "241:\ttotal: 1m 44s\tremaining: 1m 1s\n",
            "242:\ttotal: 1m 45s\tremaining: 1m 1s\n",
            "243:\ttotal: 1m 45s\tremaining: 1m\n",
            "244:\ttotal: 1m 46s\tremaining: 1m\n",
            "245:\ttotal: 1m 46s\tremaining: 59.9s\n",
            "246:\ttotal: 1m 47s\tremaining: 59.4s\n",
            "247:\ttotal: 1m 47s\tremaining: 59s\n",
            "248:\ttotal: 1m 48s\tremaining: 58.6s\n",
            "249:\ttotal: 1m 48s\tremaining: 58.1s\n",
            "250:\ttotal: 1m 48s\tremaining: 57.6s\n",
            "251:\ttotal: 1m 49s\tremaining: 57.1s\n",
            "252:\ttotal: 1m 49s\tremaining: 56.7s\n",
            "253:\ttotal: 1m 49s\tremaining: 56.3s\n",
            "254:\ttotal: 1m 50s\tremaining: 55.8s\n",
            "255:\ttotal: 1m 50s\tremaining: 55.4s\n",
            "256:\ttotal: 1m 51s\tremaining: 55s\n",
            "257:\ttotal: 1m 51s\tremaining: 54.5s\n",
            "258:\ttotal: 1m 52s\tremaining: 54.1s\n",
            "259:\ttotal: 1m 52s\tremaining: 53.7s\n",
            "260:\ttotal: 1m 53s\tremaining: 53.3s\n",
            "261:\ttotal: 1m 53s\tremaining: 52.9s\n",
            "262:\ttotal: 1m 54s\tremaining: 52.5s\n",
            "263:\ttotal: 1m 54s\tremaining: 52s\n",
            "264:\ttotal: 1m 54s\tremaining: 51.6s\n",
            "265:\ttotal: 1m 55s\tremaining: 51.1s\n",
            "266:\ttotal: 1m 55s\tremaining: 50.7s\n",
            "267:\ttotal: 1m 56s\tremaining: 50.3s\n",
            "268:\ttotal: 1m 56s\tremaining: 49.8s\n",
            "269:\ttotal: 1m 56s\tremaining: 49.4s\n",
            "270:\ttotal: 1m 57s\tremaining: 48.9s\n",
            "271:\ttotal: 1m 57s\tremaining: 48.5s\n",
            "272:\ttotal: 1m 58s\tremaining: 48.1s\n",
            "273:\ttotal: 1m 58s\tremaining: 47.7s\n",
            "274:\ttotal: 1m 59s\tremaining: 47.2s\n",
            "275:\ttotal: 1m 59s\tremaining: 46.8s\n",
            "276:\ttotal: 2m\tremaining: 46.4s\n",
            "277:\ttotal: 2m\tremaining: 46s\n",
            "278:\ttotal: 2m\tremaining: 45.5s\n",
            "279:\ttotal: 2m 1s\tremaining: 45.1s\n",
            "280:\ttotal: 2m 1s\tremaining: 44.7s\n",
            "281:\ttotal: 2m 2s\tremaining: 44.2s\n",
            "282:\ttotal: 2m 2s\tremaining: 43.8s\n",
            "283:\ttotal: 2m 3s\tremaining: 43.4s\n",
            "284:\ttotal: 2m 3s\tremaining: 42.9s\n",
            "285:\ttotal: 2m 4s\tremaining: 42.5s\n",
            "286:\ttotal: 2m 4s\tremaining: 42.1s\n",
            "287:\ttotal: 2m 5s\tremaining: 41.7s\n",
            "288:\ttotal: 2m 5s\tremaining: 41.3s\n",
            "289:\ttotal: 2m 6s\tremaining: 40.8s\n",
            "290:\ttotal: 2m 6s\tremaining: 40.4s\n",
            "291:\ttotal: 2m 6s\tremaining: 40s\n",
            "292:\ttotal: 2m 7s\tremaining: 39.6s\n",
            "293:\ttotal: 2m 7s\tremaining: 39.1s\n",
            "294:\ttotal: 2m 8s\tremaining: 38.7s\n",
            "295:\ttotal: 2m 8s\tremaining: 38.3s\n",
            "296:\ttotal: 2m 9s\tremaining: 37.9s\n",
            "297:\ttotal: 2m 9s\tremaining: 37.4s\n",
            "298:\ttotal: 2m 10s\tremaining: 37s\n",
            "299:\ttotal: 2m 10s\tremaining: 36.6s\n",
            "300:\ttotal: 2m 11s\tremaining: 36.2s\n",
            "301:\ttotal: 2m 11s\tremaining: 35.7s\n",
            "302:\ttotal: 2m 12s\tremaining: 35.3s\n",
            "303:\ttotal: 2m 12s\tremaining: 34.9s\n",
            "304:\ttotal: 2m 13s\tremaining: 34.5s\n",
            "305:\ttotal: 2m 13s\tremaining: 34s\n",
            "306:\ttotal: 2m 14s\tremaining: 33.6s\n",
            "307:\ttotal: 2m 14s\tremaining: 33.2s\n",
            "308:\ttotal: 2m 14s\tremaining: 32.7s\n",
            "309:\ttotal: 2m 15s\tremaining: 32.3s\n",
            "310:\ttotal: 2m 15s\tremaining: 31.9s\n",
            "311:\ttotal: 2m 16s\tremaining: 31.4s\n",
            "312:\ttotal: 2m 16s\tremaining: 31s\n",
            "313:\ttotal: 2m 17s\tremaining: 30.5s\n",
            "314:\ttotal: 2m 17s\tremaining: 30.1s\n",
            "315:\ttotal: 2m 17s\tremaining: 29.7s\n",
            "316:\ttotal: 2m 18s\tremaining: 29.3s\n",
            "317:\ttotal: 2m 18s\tremaining: 28.8s\n",
            "318:\ttotal: 2m 19s\tremaining: 28.4s\n",
            "319:\ttotal: 2m 19s\tremaining: 28s\n",
            "320:\ttotal: 2m 20s\tremaining: 27.5s\n",
            "321:\ttotal: 2m 20s\tremaining: 27.1s\n",
            "322:\ttotal: 2m 21s\tremaining: 26.7s\n",
            "323:\ttotal: 2m 21s\tremaining: 26.2s\n",
            "324:\ttotal: 2m 22s\tremaining: 25.8s\n",
            "325:\ttotal: 2m 22s\tremaining: 25.4s\n",
            "326:\ttotal: 2m 23s\tremaining: 24.9s\n",
            "327:\ttotal: 2m 23s\tremaining: 24.5s\n",
            "328:\ttotal: 2m 23s\tremaining: 24.1s\n",
            "329:\ttotal: 2m 24s\tremaining: 23.6s\n",
            "330:\ttotal: 2m 24s\tremaining: 23.2s\n",
            "331:\ttotal: 2m 25s\tremaining: 22.8s\n",
            "332:\ttotal: 2m 25s\tremaining: 22.3s\n",
            "333:\ttotal: 2m 26s\tremaining: 21.9s\n",
            "334:\ttotal: 2m 26s\tremaining: 21.5s\n",
            "335:\ttotal: 2m 27s\tremaining: 21s\n",
            "336:\ttotal: 2m 27s\tremaining: 20.6s\n",
            "337:\ttotal: 2m 28s\tremaining: 20.1s\n",
            "338:\ttotal: 2m 28s\tremaining: 19.7s\n",
            "339:\ttotal: 2m 28s\tremaining: 19.3s\n",
            "340:\ttotal: 2m 29s\tremaining: 18.8s\n",
            "341:\ttotal: 2m 29s\tremaining: 18.4s\n",
            "342:\ttotal: 2m 30s\tremaining: 17.9s\n",
            "343:\ttotal: 2m 30s\tremaining: 17.5s\n",
            "344:\ttotal: 2m 31s\tremaining: 17.1s\n",
            "345:\ttotal: 2m 31s\tremaining: 16.6s\n",
            "346:\ttotal: 2m 31s\tremaining: 16.2s\n",
            "347:\ttotal: 2m 32s\tremaining: 15.8s\n",
            "348:\ttotal: 2m 32s\tremaining: 15.3s\n",
            "349:\ttotal: 2m 33s\tremaining: 14.9s\n",
            "350:\ttotal: 2m 33s\tremaining: 14.4s\n",
            "351:\ttotal: 2m 34s\tremaining: 14s\n",
            "352:\ttotal: 2m 34s\tremaining: 13.6s\n",
            "353:\ttotal: 2m 34s\tremaining: 13.1s\n",
            "354:\ttotal: 2m 35s\tremaining: 12.7s\n",
            "355:\ttotal: 2m 35s\tremaining: 12.3s\n",
            "356:\ttotal: 2m 36s\tremaining: 11.8s\n",
            "357:\ttotal: 2m 36s\tremaining: 11.4s\n",
            "358:\ttotal: 2m 37s\tremaining: 11s\n",
            "359:\ttotal: 2m 37s\tremaining: 10.5s\n",
            "360:\ttotal: 2m 38s\tremaining: 10.1s\n",
            "361:\ttotal: 2m 38s\tremaining: 9.64s\n",
            "362:\ttotal: 2m 39s\tremaining: 9.2s\n",
            "363:\ttotal: 2m 39s\tremaining: 8.77s\n",
            "364:\ttotal: 2m 39s\tremaining: 8.32s\n",
            "365:\ttotal: 2m 40s\tremaining: 7.89s\n",
            "366:\ttotal: 2m 40s\tremaining: 7.45s\n",
            "367:\ttotal: 2m 41s\tremaining: 7.01s\n",
            "368:\ttotal: 2m 41s\tremaining: 6.58s\n",
            "369:\ttotal: 2m 42s\tremaining: 6.13s\n",
            "370:\ttotal: 2m 42s\tremaining: 5.7s\n",
            "371:\ttotal: 2m 43s\tremaining: 5.26s\n",
            "372:\ttotal: 2m 43s\tremaining: 4.82s\n",
            "373:\ttotal: 2m 43s\tremaining: 4.38s\n",
            "374:\ttotal: 2m 44s\tremaining: 3.94s\n",
            "375:\ttotal: 2m 44s\tremaining: 3.5s\n",
            "376:\ttotal: 2m 45s\tremaining: 3.07s\n",
            "377:\ttotal: 2m 45s\tremaining: 2.63s\n",
            "378:\ttotal: 2m 45s\tremaining: 2.19s\n",
            "379:\ttotal: 2m 46s\tremaining: 1.75s\n",
            "380:\ttotal: 2m 46s\tremaining: 1.31s\n",
            "381:\ttotal: 2m 47s\tremaining: 876ms\n",
            "382:\ttotal: 2m 47s\tremaining: 438ms\n",
            "383:\ttotal: 2m 48s\tremaining: 0us\n"
          ],
          "name": "stdout"
        }
      ]
    },
    {
      "cell_type": "code",
      "metadata": {
        "id": "luFreHQtKykK",
        "colab_type": "code",
        "colab": {
          "base_uri": "https://localhost:8080/",
          "height": 747
        },
        "outputId": "d51e6c51-f39b-4386-e6b2-49a4baa6904c"
      },
      "source": [
        "#Plotting Feature Importance\n",
        "score_dict = {}\n",
        "feature_importances = cbc_new.get_feature_importance()\n",
        "feature_names = X.drop(columns=['id','Response']).columns\n",
        "\n",
        "for score, name in sorted(zip(feature_importances, feature_names), reverse=True):\n",
        "  score_dict.update({name:score})\n",
        "\n",
        "score_list = score_dict.items()\n",
        "x,y = zip(*score_list)\n",
        "\n",
        "plt.figure(figsize=(8,12))\n",
        "plt.title('Feature Importance')\n",
        "plt.barh(x,y)\n",
        "plt.xlabel('Feature Score')\n",
        "plt.ylabel('Features')"
      ],
      "execution_count": 92,
      "outputs": [
        {
          "output_type": "execute_result",
          "data": {
            "text/plain": [
              "Text(0, 0.5, 'Features')"
            ]
          },
          "metadata": {
            "tags": []
          },
          "execution_count": 92
        },
        {
          "output_type": "display_data",
          "data": {
            "image/png": "[encoded data removed]",
            "text/plain": [
              "<Figure size 576x864 with 1 Axes>"
            ]
          },
          "metadata": {
            "tags": []
          }
        }
      ]
    }
  ]
}